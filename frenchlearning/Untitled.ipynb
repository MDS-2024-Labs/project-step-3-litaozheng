{
 "cells": [
  {
   "cell_type": "code",
   "execution_count": 3,
   "id": "375f64fa-124a-4d44-bbe8-571b019b2508",
   "metadata": {},
   "outputs": [],
   "source": [
    "from quiz.main import main"
   ]
  },
  {
   "cell_type": "code",
   "execution_count": null,
   "id": "58e35f26-e8e2-4f79-8894-11772185acb9",
   "metadata": {},
   "outputs": [
    {
     "name": "stdout",
     "output_type": "stream",
     "text": [
      "Welcome to the French Learning Program!\n",
      "\n",
      "Select Difficulty Level:\n",
      "1. Easy\n",
      "2. Medium\n",
      "3. Hard\n",
      "Type 'exit' to finish and see your results.\n",
      "\n"
     ]
    }
   ],
   "source": [
    "main()"
   ]
  },
  {
   "cell_type": "code",
   "execution_count": null,
   "id": "5520f569-f71e-4b9d-9317-d9a710982ff1",
   "metadata": {},
   "outputs": [],
   "source": []
  }
 ],
 "metadata": {
  "kernelspec": {
   "display_name": "Python 3 (ipykernel)",
   "language": "python",
   "name": "python3"
  },
  "language_info": {
   "codemirror_mode": {
    "name": "ipython",
    "version": 3
   },
   "file_extension": ".py",
   "mimetype": "text/x-python",
   "name": "python",
   "nbconvert_exporter": "python",
   "pygments_lexer": "ipython3",
   "version": "3.12.3"
  }
 },
 "nbformat": 4,
 "nbformat_minor": 5
}
